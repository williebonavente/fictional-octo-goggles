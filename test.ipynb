{
 "cells": [
  {
   "cell_type": "code",
   "execution_count": 2,
   "metadata": {},
   "outputs": [
    {
     "name": "stdout",
     "output_type": "stream",
     "text": [
      "Original array:\n",
      " [[3 2 1]\n",
      " [6 5 4]\n",
      " [9 8 7]]\n",
      "\n",
      "Reshaped and sorted array:\n",
      " [[1 2 3]\n",
      " [4 5 6]\n",
      " [7 8 9]]\n",
      "[49 64 81]\n",
      "\n",
      "Updated array:\n",
      " [[ 6  7  8]\n",
      " [ 8 10 12]\n",
      " [49 64 81]]\n",
      "\n",
      "Minimum value in array: 6\n",
      "Maximum value in array: 81\n"
     ]
    }
   ],
   "source": [
    "import numpy as np\n",
    "\n",
    "# Step 2: Declare a 2D array\n",
    "arr = np.array([\n",
    "                [3, 2, 1], \n",
    "                [6, 5, 4],\n",
    "                [9, 8, 7]])\n",
    "\n",
    "# Step 3: Print the array\n",
    "print(\"Original array:\\n\", arr)\n",
    "\n",
    "# Step 4: Sort and flatten\n",
    "arr = np.sort(arr, axis=None)\n",
    "\n",
    "# Step 5: Reshape to 2D\n",
    "arr = arr.reshape(3, 3)\n",
    "\n",
    "# Step 6: Print reshaped array\n",
    "print(\"\\nReshaped and sorted array:\\n\", arr)\n",
    "\n",
    "# Step 7: Update values\n",
    "arr[0] += 5\n",
    "arr[1] *= 2\n",
    "arr[2] = np.square(arr[2])\n",
    "print(arr[2])\n",
    "\n",
    "# Step 8: Print updated array\n",
    "print(\"\\nUpdated array:\\n\", arr)\n",
    "\n",
    "# Step 9: Get and print min and max\n",
    "print(\"\\nMinimum value in array:\", np.min(arr))\n",
    "print(\"Maximum value in array:\", np.max(arr))"
   ]
  }
 ],
 "metadata": {
  "kernelspec": {
   "display_name": "base",
   "language": "python",
   "name": "python3"
  },
  "language_info": {
   "codemirror_mode": {
    "name": "ipython",
    "version": 3
   },
   "file_extension": ".py",
   "mimetype": "text/x-python",
   "name": "python",
   "nbconvert_exporter": "python",
   "pygments_lexer": "ipython3",
   "version": "3.11.7"
  }
 },
 "nbformat": 4,
 "nbformat_minor": 2
}
