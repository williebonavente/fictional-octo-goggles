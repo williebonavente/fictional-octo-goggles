{
 "cells": [
  {
   "cell_type": "markdown",
   "metadata": {},
   "source": [
    "<h1 style=\"font-family: 'miss you'; font-weight: 600px; font-size: 100px; color: #fd5c63; text-align: center\">Simulated</h1>"
   ]
  },
  {
   "cell_type": "markdown",
   "metadata": {},
   "source": [
    "<p style=\"font-family: 'Yu Gothic UI'; font-size: 20px; text-align:center\">Make a python program that will input two two integers and will create the following functions with the specified tasks.</p>\n"
   ]
  },
  {
   "cell_type": "markdown",
   "metadata": {},
   "source": [
    "<p style=\"font-family: 'Cascadia Code'; font-size: 50px; text-align:center\">Return vs Without</p>"
   ]
  },
  {
   "cell_type": "markdown",
   "metadata": {},
   "source": [
    "<p style=\"font-family: 'Segoe UI Historic'; font-size: 20px; text-align:center\">a. Function that will compute the sum of two integers. </p>\n",
    "\n",
    "<p style=\"font-family: 'Segoe UI Historic'; font-size: 20px; text-align:center\">b. Function that will compute the product of two integers. </p>\n",
    "\n",
    "<div style=\"font-family: 'Segoe UI Historic'; font-size: 20px; text-align:center\">\n",
    "\n",
    "c. Function that will compute the difference if the first integer is greater than $2^{nd}$ integer.\n",
    "\n",
    "</div>\n",
    "\n",
    "<div style=\"font-family: 'Segoe UI Historic'; font-size: 20px; text-align:center\">\n",
    "\n",
    "d. Function that will compute the remainder if the $2^{nd}$ integer is greater than the first integer.\n",
    "\n",
    "</div>\n",
    "\n",
    "<div style=\"font-family: 'Segoe UI Historic'; font-size: 20px; text-align:center\">\n",
    "\n",
    "e. Function that will compute the quotient if the $1^{st}$ integer is greater than the $2^{nd}$ integer. No addition, multiplication, division and modulus operation with $0$ value.\n",
    "\n",
    "</div>\n",
    "\n",
    "<div style=\"font-family: 'Segoe UI Historic'; font-size: 20px; text-align:center\">\n",
    "\n",
    "f. No arithmetic operation with $0$ value.\n",
    "\n",
    "</div>\n",
    "\n",
    "\n",
    "\n",
    "\n"
   ]
  },
  {
   "cell_type": "markdown",
   "metadata": {},
   "source": [
    "<h2 style=\"font-family: 'Cascadia Code'; font-size: 30px; text-align:justify\">With Return</h2>"
   ]
  },
  {
   "cell_type": "code",
   "execution_count": 36,
   "metadata": {
    "tags": []
   },
   "outputs": [
    {
     "name": "stdout",
     "output_type": "stream",
     "text": [
      "Overwriting Return/programA.py\n"
     ]
    }
   ],
   "source": [
    "%%writefile Return/programA.py\n",
    "# program a\n",
    "def twoSum(x,  y):\n",
    "    return x + y\n",
    "# Display\n",
    "print(twoSum(1, 2))"
   ]
  },
  {
   "cell_type": "code",
   "execution_count": 25,
   "metadata": {},
   "outputs": [
    {
     "name": "stdout",
     "output_type": "stream",
     "text": [
      "Writing Return/programB.py\n"
     ]
    }
   ],
   "source": [
    "%%writefile Return/programB.py\n",
    "# program b\n",
    "def twoProduct(x,  y):\n",
    "    return x * y\n",
    "# Display\n",
    "print(twoProduct(3, 2))"
   ]
  },
  {
   "cell_type": "code",
   "execution_count": 27,
   "metadata": {},
   "outputs": [
    {
     "name": "stdout",
     "output_type": "stream",
     "text": [
      "Writing Return/programC.py\n"
     ]
    }
   ],
   "source": [
    "%%writefile Return/programC.py\n",
    "def twoDiff(x,  y):\n",
    "    if x < y:\n",
    "        x, y = y, x  # Swapping using tuple\n",
    "    return x - y\n",
    "        \n",
    "# Display\n",
    "print(twoDiff(100, 30))\n",
    "print(twoDiff(30, 33))"
   ]
  },
  {
   "cell_type": "code",
   "execution_count": 28,
   "metadata": {},
   "outputs": [
    {
     "name": "stdout",
     "output_type": "stream",
     "text": [
      "Writing Return/programD.py\n"
     ]
    }
   ],
   "source": [
    "%%writefile Return/programD.py\n",
    "# program d\n",
    "def computeRemainder(x,  y):\n",
    "    if y < x:\n",
    "        x, y = y, x  # Swapping using tuple\n",
    "    return x % y\n",
    "# Display\n",
    "print(computeRemainder(100, 30))\n",
    "print(computeRemainder(30, 33))"
   ]
  },
  {
   "cell_type": "code",
   "execution_count": 34,
   "metadata": {},
   "outputs": [
    {
     "name": "stdout",
     "output_type": "stream",
     "text": [
      "Overwriting Return/programE.py\n"
     ]
    }
   ],
   "source": [
    "%%writefile Return/programE.py\n",
    "# program e and f\n",
    "def compute_quotient(x, y):\n",
    "    if y == 0 or x == 0:\n",
    "        return \"No arithmetic operation with $0$ value.\"\n",
    "    elif x > y:\n",
    "        return x / y\n",
    "    else:\n",
    "        return \"First integer is not greater than the second\"\n",
    "    \n",
    "print(compute_quotient(3, 2))"
   ]
  },
  {
   "cell_type": "markdown",
   "metadata": {},
   "source": [
    "<h2 style=\"font-family: 'Cascadia Code'; font-size: 30px; text-align:justify\">Without Return</h2>"
   ]
  },
  {
   "cell_type": "code",
   "execution_count": 59,
   "metadata": {},
   "outputs": [
    {
     "name": "stdout",
     "output_type": "stream",
     "text": [
      "Overwriting noReturn/programA.py\n"
     ]
    }
   ],
   "source": [
    "%%writefile noReturn/programA.py\n",
    "# program a\n",
    "def twoSum(x,  y):\n",
    "    print(x + y)\n",
    "# Display\n",
    "twoSum(1, 2)"
   ]
  },
  {
   "cell_type": "code",
   "execution_count": 60,
   "metadata": {},
   "outputs": [
    {
     "name": "stdout",
     "output_type": "stream",
     "text": [
      "Overwriting noReturn/programB.py\n"
     ]
    }
   ],
   "source": [
    "%%writefile noReturn/programB.py\n",
    "# program a\n",
    "def twoProduct(x,  y):\n",
    "    print(x * y)\n",
    "# Display\n",
    "twoProduct(43, 2)"
   ]
  },
  {
   "cell_type": "code",
   "execution_count": 61,
   "metadata": {},
   "outputs": [
    {
     "name": "stdout",
     "output_type": "stream",
     "text": [
      "Overwriting Return/programC.py\n"
     ]
    }
   ],
   "source": [
    "%%writefile Return/programC.py\n",
    "def twoDiff(x,  y):\n",
    "    if x < y:\n",
    "        x, y = y, x  # Swapping using tuple\n",
    "    print(x - y)\n",
    "        \n",
    "# Display\n",
    "print(twoDiff(100, 30))\n",
    "print(twoDiff(30, 33))"
   ]
  },
  {
   "cell_type": "code",
   "execution_count": 62,
   "metadata": {},
   "outputs": [
    {
     "name": "stdout",
     "output_type": "stream",
     "text": [
      "Overwriting Return/programD.py\n"
     ]
    }
   ],
   "source": [
    "%%writefile Return/programD.py\n",
    "# program d\n",
    "def compute_remainder(x,  y):\n",
    "    if y < x:\n",
    "        x, y = y, x  # Swapping using tuple\n",
    "    return x % y\n",
    "# Display\n",
    "print(compute_remainder(100, 30))\n",
    "print(compute_remainder(30, 33))"
   ]
  },
  {
   "cell_type": "code",
   "execution_count": 63,
   "metadata": {},
   "outputs": [
    {
     "name": "stdout",
     "output_type": "stream",
     "text": [
      "Overwriting noReturn/programE.py\n"
     ]
    }
   ],
   "source": [
    "%%writefile noReturn/programE.py\n",
    "# program e and f\n",
    "def compute_quotient(x, y):\n",
    "    if y == 0 or x == 0:\n",
    "        print(\"No arithmetic operation with $0$ value.\")\n",
    "    elif x > y:\n",
    "        print(x / y)\n",
    "    else:\n",
    "        print(\"First integer is not greater than the second\")\n",
    "    \n",
    "compute_quotient(3, 2)"
   ]
  }
 ],
 "metadata": {
  "kernelspec": {
   "display_name": "Python 3",
   "language": "python",
   "name": "python3"
  },
  "language_info": {
   "codemirror_mode": {
    "name": "ipython",
    "version": 3
   },
   "file_extension": ".py",
   "mimetype": "text/x-python",
   "name": "python",
   "nbconvert_exporter": "python",
   "pygments_lexer": "ipython3",
   "version": "3.12.2"
  }
 },
 "nbformat": 4,
 "nbformat_minor": 2
}
