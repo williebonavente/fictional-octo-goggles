{
 "cells": [
  {
   "cell_type": "code",
   "execution_count": 1,
   "metadata": {},
   "outputs": [],
   "source": [
    "import numpy as np\n",
    "\n",
    "# Coefficient matrix\n",
    "A = np.array([[4, 8, 1], [1, 7, -3], [2, -3, 2]])\n",
    "\n",
    "# Calculate determinant of A\n",
    "D = np.linalg.det(A)"
   ]
  },
  {
   "cell_type": "code",
   "execution_count": 2,
   "metadata": {},
   "outputs": [],
   "source": [
    "# Matrix for x\n",
    "Ax = np.array([[2, 8, 1], [-14, 7, -3], [3, -3, 2]])\n",
    "Dx = np.linalg.det(Ax)\n",
    "\n",
    "# Matrix for y\n",
    "Ay = np.array([[4, 2, 1], [1, -14, -3], [2, 3, 2]])\n",
    "Dy = np.linalg.det(Ay)\n",
    "\n",
    "# Matrix for z\n",
    "Az = np.array([[4, 8, 2], [1, 7, -14], [2, -3, 3]])\n",
    "Dz = np.linalg.det(Az)"
   ]
  },
  {
   "cell_type": "code",
   "execution_count": 3,
   "metadata": {},
   "outputs": [
    {
     "name": "stdout",
     "output_type": "stream",
     "text": [
      "x = -3.000000000000001, y = 1.0, z = 6.000000000000002\n"
     ]
    }
   ],
   "source": [
    "# Calculate values of x, y, and z\n",
    "x = Dx / D\n",
    "y = Dy / D\n",
    "z = Dz / D\n",
    "\n",
    "print(f\"x = {x}, y = {y}, z = {z}\")"
   ]
  },
  {
   "cell_type": "code",
   "execution_count": 4,
   "metadata": {},
   "outputs": [
    {
     "name": "stdout",
     "output_type": "stream",
     "text": [
      "First equation: 1.9999999999999982 = 2\n",
      "Second equation: -14.000000000000007 = -14\n",
      "Third equation: 3.0000000000000018 = 3\n"
     ]
    }
   ],
   "source": [
    "# Given solution\n",
    "x = -3.000000000000001\n",
    "y = 1.0\n",
    "z = 6.000000000000002\n",
    "\n",
    "# Check the first equation: 4x + 8y + z = 2\n",
    "eq1 = 4*x + 8*y + z\n",
    "print(f\"First equation: {eq1} = 2\")\n",
    "\n",
    "# Check the second equation: x + 7y -3z = -14\n",
    "eq2 = x + 7*y -3*z\n",
    "print(f\"Second equation: {eq2} = -14\")\n",
    "\n",
    "# Check the third equation: 2x -3y + 2z = 3\n",
    "eq3 = 2*x -3*y + 2*z\n",
    "print(f\"Third equation: {eq3} = 3\")"
   ]
  }
 ],
 "metadata": {
  "kernelspec": {
   "display_name": "base",
   "language": "python",
   "name": "python3"
  },
  "language_info": {
   "codemirror_mode": {
    "name": "ipython",
    "version": 3
   },
   "file_extension": ".py",
   "mimetype": "text/x-python",
   "name": "python",
   "nbconvert_exporter": "python",
   "pygments_lexer": "ipython3",
   "version": "3.11.7"
  }
 },
 "nbformat": 4,
 "nbformat_minor": 2
}
