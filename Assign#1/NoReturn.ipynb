{
 "cells": [
  {
   "cell_type": "markdown",
   "metadata": {},
   "source": [
    "**Simulation: Void Function**"
   ]
  },
  {
   "cell_type": "markdown",
   "metadata": {},
   "source": [
    "#### Make a python program that will input two two integers and will create the following functions with the specified tasks.\n"
   ]
  },
  {
   "cell_type": "markdown",
   "metadata": {},
   "source": [
    "<p style=\"font-family: 'Segoe UI Historic'; font-size: 20px; text-align:center\">a. Function that will compute the sum of two integers. </p>\n",
    "\n",
    "<p style=\"font-family: 'Segoe UI Historic'; font-size: 20px; text-align:center\">b. Function that will compute the product of two integers. </p>\n",
    "\n",
    "<div style=\"font-family: 'Segoe UI Historic'; font-size: 20px; text-align:center\">\n",
    "\n",
    "c. Function that will compute the difference if the first integer is greater than $2^{nd}$ integer.\n",
    "\n",
    "</div>\n",
    "\n",
    "<div style=\"font-family: 'Segoe UI Historic'; font-size: 20px; text-align:center\">\n",
    "\n",
    "d. Function that will compute the remainder if the $2^{nd}$ integer is greater than the first integer.\n",
    "\n",
    "</div>\n",
    "\n",
    "<div style=\"font-family: 'Segoe UI Historic'; font-size: 20px; text-align:center\">\n",
    "\n",
    "e. Function that will compute the quotient if the $1^{st}$ integer is greater than the $2^{nd}$ integer. No addition, multiplication, division and modulus operation with $0$ value.\n",
    "\n",
    "</div>\n",
    "\n",
    "<div style=\"font-family: 'Segoe UI Historic'; font-size: 20px; text-align:center\">\n",
    "\n",
    "f. No arithmetic operation with $0$ value.\n",
    "\n",
    "</div>\n",
    "\n",
    "\n",
    "\n",
    "\n"
   ]
  },
  {
   "cell_type": "code",
   "execution_count": 44,
   "metadata": {},
   "outputs": [],
   "source": [
    "from IPython.display import display, Math"
   ]
  },
  {
   "cell_type": "code",
   "execution_count": 46,
   "metadata": {},
   "outputs": [],
   "source": [
    "\n",
    "# universal function for getting the input.\n",
    "# this is not included in the task.\n",
    "# this to avoid redundancy in the code and make it more readable the ever before\n",
    "def input_num():\n",
    "    x = int(input(\"1st number: \"))\n",
    "    y = int(input(\"2nd number: \"))\n",
    "    return x, y"
   ]
  },
  {
   "cell_type": "code",
   "execution_count": 48,
   "metadata": {},
   "outputs": [],
   "source": [
    "# for flagship, check if the value is 0\n",
    "# this function is not included in the task.\n",
    "def is_zero(x, y):\n",
    "    if x == 0 or y == 0:\n",
    "        display(Math(r'\\text{No Operation Perform}'))\n",
    "        return True\n",
    "    return False"
   ]
  },
  {
   "cell_type": "code",
   "execution_count": 50,
   "metadata": {},
   "outputs": [
    {
     "data": {
      "text/latex": [
       "$\\displaystyle 8$"
      ],
      "text/plain": [
       "<IPython.core.display.Math object>"
      ]
     },
     "metadata": {},
     "output_type": "display_data"
    }
   ],
   "source": [
    "# program a\n",
    "def twoSum():\n",
    "    x, y = input_num()\n",
    "    if not is_zero(x, y):    \n",
    "        display(Math(str(x + y)))\n",
    "# input value: x = 3, y = 5\n",
    "twoSum()"
   ]
  },
  {
   "cell_type": "code",
   "execution_count": 59,
   "metadata": {},
   "outputs": [
    {
     "data": {
      "text/latex": [
       "$\\displaystyle 30$"
      ],
      "text/plain": [
       "<IPython.core.display.Math object>"
      ]
     },
     "metadata": {},
     "output_type": "display_data"
    }
   ],
   "source": [
    "# program b\n",
    "def twoProduct():\n",
    "    x, y = input_num()\n",
    "    if not is_zero(x, y):    \n",
    "        display(Math(str(x*y)))\n",
    "# input value: x = 3, y = 10\n",
    "twoProduct()"
   ]
  },
  {
   "cell_type": "code",
   "execution_count": 52,
   "metadata": {},
   "outputs": [
    {
     "data": {
      "text/latex": [
       "$\\displaystyle \\text{3 is not greater than 10} \\text{ value.}$"
      ],
      "text/plain": [
       "<IPython.core.display.Math object>"
      ]
     },
     "metadata": {},
     "output_type": "display_data"
    }
   ],
   "source": [
    "# program c\n",
    "def twoDiff():\n",
    "    x, y = input_num()\n",
    "    if not is_zero(x, y):\n",
    "        if x > y:    \n",
    "            display(Math(str(x-y)))\n",
    "        else:\n",
    "            display(Math(fr'\\text{{{x} is not greater than {y}}} \\text{{ value.}}'))\n",
    "# input value: x = 3, y = 10            \n",
    "twoDiff()"
   ]
  },
  {
   "cell_type": "code",
   "execution_count": 53,
   "metadata": {},
   "outputs": [
    {
     "data": {
      "text/latex": [
       "$\\displaystyle 1$"
      ],
      "text/plain": [
       "<IPython.core.display.Math object>"
      ]
     },
     "metadata": {},
     "output_type": "display_data"
    }
   ],
   "source": [
    "# program d\n",
    "def compute_remainder():\n",
    "    x, y = input_num()\n",
    "    if not is_zero(x, y):\n",
    "        if y > x:    \n",
    "            display(Math(str(y%x)))\n",
    "        else:\n",
    "            display(Math(fr'\\text{{{y} is not greater than {x}}} \\text{{ value.}}'))\n",
    "# input value: x = 3, y = 10               \n",
    "compute_remainder()"
   ]
  },
  {
   "cell_type": "code",
   "execution_count": 55,
   "metadata": {},
   "outputs": [
    {
     "data": {
      "text/latex": [
       "$\\displaystyle 1.7$"
      ],
      "text/plain": [
       "<IPython.core.display.Math object>"
      ]
     },
     "metadata": {},
     "output_type": "display_data"
    }
   ],
   "source": [
    "def compute_quotient():\n",
    "    x, y = input_num()\n",
    "    if y == 0 or x == 0:\n",
    "        display(Math(r'\\text{No arithmetic operation with } 0 \\text{ value.}'))\n",
    "    elif x > y:\n",
    "        display(Math(str(x / y)))\n",
    "    else:\n",
    "        display(Math(fr'\\text{{{x} is not greater than {y}}} \\text{{ value.}}'))\n",
    "# input value: x = 17, y = 10  \n",
    "compute_quotient()"
   ]
  },
  {
   "cell_type": "code",
   "execution_count": 57,
   "metadata": {},
   "outputs": [
    {
     "data": {
      "text/latex": [
       "$\\displaystyle \\text{7 is not greater than 10} \\text{ value.}$"
      ],
      "text/plain": [
       "<IPython.core.display.Math object>"
      ]
     },
     "metadata": {},
     "output_type": "display_data"
    }
   ],
   "source": [
    "def compute_quotient():\n",
    "    x, y = input_num()\n",
    "    if y == 0 or x == 0:\n",
    "        display(Math(r'\\text{No arithmetic operation with } 0 \\text{ value.}'))\n",
    "    elif x > y:\n",
    "        display(Math(str(x / y)))\n",
    "    else:\n",
    "        display(Math(fr'\\text{{{x} is not greater than {y}}} \\text{{ value.}}'))\n",
    "# input value: x = 7, y = 10 \n",
    "compute_quotient()"
   ]
  },
  {
   "cell_type": "markdown",
   "metadata": {},
   "source": [
    "#### Author: Willie M. Bonavente"
   ]
  }
 ],
 "metadata": {
  "kernelspec": {
   "display_name": "Python 3",
   "language": "python",
   "name": "python3"
  },
  "language_info": {
   "codemirror_mode": {
    "name": "ipython",
    "version": 3
   },
   "file_extension": ".py",
   "mimetype": "text/x-python",
   "name": "python",
   "nbconvert_exporter": "python",
   "pygments_lexer": "ipython3",
   "version": "3.12.2"
  }
 },
 "nbformat": 4,
 "nbformat_minor": 2
}
