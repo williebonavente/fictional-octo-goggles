{
 "cells": [
  {
   "cell_type": "markdown",
   "metadata": {},
   "source": [
    "<h3>Author: Willie M. Bonavente</h3>"
   ]
  },
  {
   "cell_type": "code",
   "execution_count": 1,
   "metadata": {},
   "outputs": [],
   "source": [
    "import numpy as np"
   ]
  },
  {
   "cell_type": "markdown",
   "metadata": {},
   "source": [
    "<h5>Program 1: Creating array object </h5>"
   ]
  },
  {
   "cell_type": "code",
   "execution_count": 5,
   "metadata": {},
   "outputs": [
    {
     "name": "stdout",
     "output_type": "stream",
     "text": [
      "Array is of type:  <class 'numpy.ndarray'>\n",
      "No. of dimensions:  2\n",
      "Shape of array:  (2, 3)\n",
      "Size of array:  6\n",
      "Array stores elements of type:  int32\n"
     ]
    }
   ],
   "source": [
    "arr = np.array( [[ 1, 2, 3],\n",
    "                [ 4, 2, 5]] )\n",
    "# Printing type of arr object\n",
    "print(\"Array is of type: \", type(arr))\n",
    "# Printing array dimensions (axes)\n",
    "print(\"No. of dimensions: \", arr.ndim)\n",
    "# Printing shape of array\n",
    "print(\"Shape of array: \", arr.shape)\n",
    "# Printing size (total number of elements) of array\n",
    "print(\"Size of array: \", arr.size)\n",
    "# Printing type of elements in array\n",
    "print(\"Array stores elements of type: \", arr.dtype)"
   ]
  },
  {
   "cell_type": "markdown",
   "metadata": {},
   "source": [
    "<h5>Program 2: Array creation techniques </h5>"
   ]
  },
  {
   "cell_type": "code",
   "execution_count": 8,
   "metadata": {},
   "outputs": [
    {
     "name": "stdout",
     "output_type": "stream",
     "text": [
      "Array created using passed list:\n",
      " [[1. 2. 4.]\n",
      " [5. 8. 7.]]\n",
      "\n",
      "Array created using passed tuple:\n",
      " [1 3 2]\n",
      "\n",
      "An array initialized with all zeros:\n",
      " [[0. 0. 0. 0.]\n",
      " [0. 0. 0. 0.]\n",
      " [0. 0. 0. 0.]]\n",
      "\n",
      "An array initialized with all 6s. Array type is complex:\n",
      " [[6.+0.j 6.+0.j 6.+0.j]\n",
      " [6.+0.j 6.+0.j 6.+0.j]\n",
      " [6.+0.j 6.+0.j 6.+0.j]]\n",
      "\n",
      "A random array:\n",
      " [[0.31224893 0.36306914]\n",
      " [0.37992102 0.3721951 ]]\n",
      "\n",
      "A sequential array with steps of 5:\n",
      " [ 0  5 10 15 20 25]\n",
      "\n",
      "A sequential array with 10 values between 0 and 5:\n",
      " [0.         0.55555556 1.11111111 1.66666667 2.22222222 2.77777778\n",
      " 3.33333333 3.88888889 4.44444444 5.        ]\n",
      "\n",
      "Original array:\n",
      " [[1 2 3 4]\n",
      " [5 2 4 2]\n",
      " [1 2 0 1]]\n",
      "Reshaped array:\n",
      " [[[1 2 3]\n",
      "  [4 5 2]]\n",
      "\n",
      " [[4 2 1]\n",
      "  [2 0 1]]]\n",
      "\n",
      "Original array:\n",
      " [[1 2 3]\n",
      " [4 5 6]]\n",
      "Flattened array:\n",
      " [1 2 3 4 5 6]\n"
     ]
    }
   ],
   "source": [
    "# Creating array from list with type float\n",
    "a = np.array([[1, 2, 4], [5, 8, 7]], dtype = 'float')\n",
    "print(\"Array created using passed list:\\n\", a)\n",
    "\n",
    "# Creating array from tuple\n",
    "b = np.array((1 , 3, 2))\n",
    "print(\"\\nArray created using passed tuple:\\n\", b)\n",
    "\n",
    "# Creating a 3X4 array with all zeros\n",
    "c = np.zeros((3, 4))\n",
    "print(\"\\nAn array initialized with all zeros:\\n\", c)\n",
    "\n",
    "# Create a constant value array of complex type\n",
    "d = np.full((3, 3), 6, dtype = 'complex')\n",
    "print(\"\\nAn array initialized with all 6s. Array type is complex:\\n\", d)\n",
    "\n",
    "# Create an array with random values\n",
    "e = np.random.random((2, 2))\n",
    "print(\"\\nA random array:\\n\", e)\n",
    "\n",
    "# Create a sequence of integers from 0 to 30 with steps of 5\n",
    "f = np.arange(0, 30, 5)\n",
    "print(\"\\nA sequential array with steps of 5:\\n\", f)\n",
    "\n",
    "# Create a sequence of 10 values in range 0 to 5\n",
    "g = np.linspace(0, 5, 10)\n",
    "print(\"\\nA sequential array with 10 values between 0 and 5:\\n\", g)\n",
    "\n",
    "# Reshaping 3X4 array to 2X2X3 array\n",
    "arr = np.array([[1, 2, 3, 4], [5, 2, 4, 2], [1, 2, 0, 1]])\n",
    "newarr = arr.reshape(2, 2, 3)\n",
    "print(\"\\nOriginal array:\\n\", arr)\n",
    "print(\"Reshaped array:\\n\", newarr)\n",
    "\n",
    "# Flatten array\n",
    "arr = np.array([[1, 2, 3], [4, 5, 6]])\n",
    "flarr = arr.flatten()\n",
    "print(\"\\nOriginal array:\\n\", arr)\n",
    "print(\"Flattened array:\\n\", flarr)"
   ]
  },
  {
   "cell_type": "markdown",
   "metadata": {},
   "source": [
    "<h5>Program 3: Array Indexing</h5>"
   ]
  },
  {
   "cell_type": "code",
   "execution_count": 9,
   "metadata": {},
   "outputs": [
    {
     "name": "stdout",
     "output_type": "stream",
     "text": [
      "Array with first 2 rows and alternate columns(0 and 2):\n",
      " [[-1.  0.]\n",
      " [ 4.  6.]]\n",
      "\n",
      "Elements at indices (0, 3), (1, 2), (2, 1), (3, 0):\n",
      " [4. 6. 0. 3.]\n",
      "\n",
      "Elements greater than 0:\n",
      " [2.  4.  4.  6.  2.6 7.  8.  3.  4.  2. ]\n"
     ]
    }
   ],
   "source": [
    "import numpy as np\n",
    "\n",
    "# An exemplar array\n",
    "arr = np.array([[-1, 2, 0, 4],\n",
    "                [4, -0.5, 6, 0],\n",
    "                [2.6, 0, 7, 8],\n",
    "                [3, -7, 4, 2.0]])\n",
    "\n",
    "# Slicing array\n",
    "temp = arr[:2, ::2]\n",
    "print(\"Array with first 2 rows and alternate columns(0 and 2):\\n\", temp)\n",
    "\n",
    "# Integer array indexing example\n",
    "temp = arr[[0, 1, 2, 3], [3, 2, 1, 0]]\n",
    "print(\"\\nElements at indices (0, 3), (1, 2), (2, 1), (3, 0):\\n\", temp)\n",
    "\n",
    "# boolean array indexing example\n",
    "cond = arr > 0  # cond is a boolean array\n",
    "temp = arr[cond]\n",
    "print(\"\\nElements greater than 0:\\n\", temp)"
   ]
  },
  {
   "cell_type": "markdown",
   "metadata": {},
   "source": [
    "<h5>Program 4: Basic Operations</h5>"
   ]
  },
  {
   "cell_type": "code",
   "execution_count": 8,
   "metadata": {},
   "outputs": [
    {
     "name": "stdout",
     "output_type": "stream",
     "text": [
      "Adding 1 to every element: [2 3 6 4]\n",
      "Subtracting 3 from each element: [-2 -1  2  0]\n",
      "Multiplying each element by 10: [10 20 50 30]\n",
      "Squaring each element: [ 1  4 25  9]\n",
      "Doubled each element of original array: [ 2  4 10  6]\n",
      "\n",
      "Original array:\n",
      " [[1 2 3]\n",
      " [3 4 5]\n",
      " [9 6 0]]\n",
      "Transpose of array:\n",
      " [[1 3 9]\n",
      " [2 4 6]\n",
      " [3 5 0]]\n"
     ]
    }
   ],
   "source": [
    "# basic operations on single array\n",
    "a = np.array([1, 2, 5, 3])\n",
    "\n",
    "# add 1 to every element\n",
    "print(\"Adding 1 to every element:\", a + 1)\n",
    "\n",
    "# subtract 3 from each element\n",
    "print(\"Subtracting 3 from each element:\", a - 3)\n",
    "\n",
    "# multiply each element by 10\n",
    "print(\"Multiplying each element by 10:\", a * 10)\n",
    "\n",
    "# square each element\n",
    "print(\"Squaring each element:\", a ** 2)\n",
    "\n",
    "# modify existing array\n",
    "a *= 2\n",
    "print(\"Doubled each element of original array:\", a)\n",
    "\n",
    "# transpose of array\n",
    "a = np.array([[1, 2, 3], [3, 4, 5], [9, 6, 0]])\n",
    "\n",
    "print(\"\\nOriginal array:\\n\", a)\n",
    "print(\"Transpose of array:\\n\", a.T)"
   ]
  },
  {
   "cell_type": "code",
   "execution_count": 10,
   "metadata": {},
   "outputs": [
    {
     "name": "stdout",
     "output_type": "stream",
     "text": [
      "Largest element is: 9\n",
      "Row-wise maximum elements: [6 7 9]\n",
      "Column-wise minimum elements: [1 1 2]\n",
      "Sum of all array elements: 38\n",
      "Cumulative sum along each row:\n",
      " [[ 1  6 12]\n",
      " [ 4 11 13]\n",
      " [ 3  4 13]]\n"
     ]
    }
   ],
   "source": [
    "# unary operators in numpy\n",
    "arr = np.array([[1, 5, 6],\n",
    "                [4, 7, 2],\n",
    "                [3, 1, 9]])\n",
    "\n",
    "# maximum element of array\n",
    "print(\"Largest element is:\", arr.max())\n",
    "print(\"Row-wise maximum elements:\", arr.max(axis = 1))\n",
    "\n",
    "# minimum element of array\n",
    "print(\"Column-wise minimum elements:\", arr.min(axis = 0))\n",
    "\n",
    "# sum of array elements\n",
    "print(\"Sum of all array elements:\", arr.sum())\n",
    "\n",
    "# cumulative sum along each row\n",
    "print(\"Cumulative sum along each row:\\n\", arr.cumsum(axis = 1))"
   ]
  },
  {
   "cell_type": "code",
   "execution_count": 11,
   "metadata": {},
   "outputs": [
    {
     "name": "stdout",
     "output_type": "stream",
     "text": [
      "Array sum:\n",
      " [[5 5]\n",
      " [5 5]]\n",
      "Array multiplication:\n",
      " [[4 6]\n",
      " [6 4]]\n",
      "Matrix multiplication:\n",
      " [[ 8  5]\n",
      " [20 13]]\n"
     ]
    }
   ],
   "source": [
    "# binary operators in Numpy\n",
    "a = np.array([[1, 2],\n",
    "              [3, 4]])\n",
    "b = np.array([[4, 3],\n",
    "              [2, 1]])\n",
    "\n",
    "# add arrays\n",
    "print(\"Array sum:\\n\", a + b)\n",
    "\n",
    "# multiply arrays (elementwise multiplication)\n",
    "print(\"Array multiplication:\\n\", a * b)\n",
    "\n",
    "# matrix multiplication\n",
    "print(\"Matrix multiplication:\\n\", a.dot(b))"
   ]
  },
  {
   "cell_type": "code",
   "execution_count": 12,
   "metadata": {},
   "outputs": [
    {
     "name": "stdout",
     "output_type": "stream",
     "text": [
      "Sine values of array elements: [0.0000000e+00 1.0000000e+00 1.2246468e-16]\n",
      "Exponent of array elements: [ 1.          2.71828183  7.3890561  20.08553692]\n",
      "Square root of array elements: [0.         1.         1.41421356 1.73205081]\n"
     ]
    }
   ],
   "source": [
    "# universal functions in numpy\n",
    "\n",
    "# create an array of sine values\n",
    "a = np.array([0, np.pi/2, np.pi])\n",
    "print(\"Sine values of array elements:\", np.sin(a))\n",
    "\n",
    "# exponential values\n",
    "a = np.array([0, 1, 2, 3])\n",
    "print(\"Exponent of array elements:\", np.exp(a))\n",
    "\n",
    "# square root of array values\n",
    "print(\"Square root of array elements:\", np.sqrt(a))\n"
   ]
  },
  {
   "cell_type": "markdown",
   "metadata": {},
   "source": [
    "<h5>Program 5: Sorting an Array</h5>"
   ]
  },
  {
   "cell_type": "code",
   "execution_count": 16,
   "metadata": {},
   "outputs": [
    {
     "name": "stdout",
     "output_type": "stream",
     "text": [
      "Array elements in sorted order:\n",
      " [-1  0  1  2  3  4  4  5  6]\n",
      "Row-wise sorted array:\n",
      " [[ 1  2  4]\n",
      " [ 3  4  6]\n",
      " [-1  0  5]]\n",
      "Column wise sort by applying merge-sort:\n",
      " [[ 0 -1  2]\n",
      " [ 1  4  5]\n",
      " [ 3  4  6]]\n",
      "\n",
      "Array sorted by names:\n",
      " [(b'Aakash', 2019, 9. ) (b'Ajay', 2020, 8.7) (b'Hrithik', 2022, 8.5)\n",
      " (b'Pankaj', 2013, 7.9)]\n",
      "Array sorted by graduation year and then cgpa:\n",
      " [(b'Pankaj', 2013, 7.9) (b'Aakash', 2019, 9. ) (b'Ajay', 2020, 8.7)\n",
      " (b'Hrithik', 2022, 8.5)]\n"
     ]
    }
   ],
   "source": [
    "a = np.array([[1, 4, 2],\n",
    "              [3, 4, 6],\n",
    "              [0, -1, 5]])\n",
    "\n",
    "# sorted array\n",
    "print(\"Array elements in sorted order:\\n\", np.sort(a, axis=None))\n",
    "\n",
    "# sort array row-wise\n",
    "print(\"Row-wise sorted array:\\n\", np.sort(a, axis=1))\n",
    "\n",
    "# specify sort algorithm\n",
    "print(\"Column wise sort by applying merge-sort:\\n\", np.sort(a, axis=0, kind='mergesort'))\n",
    "\n",
    "# Example to show sorting of structured array\n",
    "# set alias names for dtypes\n",
    "dtypes = [('name', 'S10'), ('grad_year', int), ('cgpa', float)]\n",
    "\n",
    "# Values to be put in array\n",
    "values = [('Hrithik', 2022, 8.5), ('Ajay', 2020, 8.7),\n",
    "          ('Pankaj', 2013, 7.9), ('Aakash', 2019, 9.0)]\n",
    "\n",
    "# Creating array\n",
    "arr = np.array(values, dtype=dtypes)\n",
    "print(\"\\nArray sorted by names:\\n\", np.sort(arr, order='name'))\n",
    "\n",
    "print(\"Array sorted by graduation year and then cgpa:\\n\", np.sort(arr, order=['grad_year', 'cgpa']))"
   ]
  },
  {
   "cell_type": "code",
   "execution_count": 10,
   "metadata": {},
   "outputs": [],
   "source": [
    "import matplotlib.pyplot as plt"
   ]
  },
  {
   "cell_type": "code",
   "execution_count": 19,
   "metadata": {},
   "outputs": [
    {
     "data": {
      "image/png": "[encoded data removed]",
      "text/plain": [
       "<Figure size 640x480 with 1 Axes>"
      ]
     },
     "metadata": {},
     "output_type": "display_data"
    }
   ],
   "source": [
    "# Extract names and cgpa from the sorted array\n",
    "names = [name.decode('utf-8') for name in np.sort(arr, order='name')['name']]\n",
    "cgpa = [cg for cg in np.sort(arr, order='name')['cgpa']]\n",
    "\n",
    "# Create bar graph\n",
    "plt.bar(names, cgpa)\n",
    "\n",
    "# Add labels and title\n",
    "plt.xlabel('Names')\n",
    "plt.ylabel('CGPA')\n",
    "plt.title('CGPA of Students')\n",
    "\n",
    "# Display the graph\n",
    "plt.show()"
   ]
  }
 ],
 "metadata": {
  "kernelspec": {
   "display_name": "base",
   "language": "python",
   "name": "python3"
  },
  "language_info": {
   "codemirror_mode": {
    "name": "ipython",
    "version": 3
   },
   "file_extension": ".py",
   "mimetype": "text/x-python",
   "name": "python",
   "nbconvert_exporter": "python",
   "pygments_lexer": "ipython3",
   "version": "3.11.7"
  }
 },
 "nbformat": 4,
 "nbformat_minor": 2
}
